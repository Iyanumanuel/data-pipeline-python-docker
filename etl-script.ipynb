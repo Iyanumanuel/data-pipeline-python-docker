{
 "cells": [
  {
   "cell_type": "code",
   "execution_count": 12,
   "metadata": {},
   "outputs": [
    {
     "data": {
      "text/plain": [
       "True"
      ]
     },
     "execution_count": 12,
     "metadata": {},
     "output_type": "execute_result"
    }
   ],
   "source": [
    "import pandas as pd\n",
    "import pytest\n",
    "import mysql.connector\n",
    "import pymysql\n",
    "from dotenv import load_dotenv\n",
    "from sqlalchemy import create_engine\n",
    "import os\n",
    "load_dotenv()"
   ]
  },
  {
   "cell_type": "code",
   "execution_count": 2,
   "metadata": {},
   "outputs": [],
   "source": [
    "# Connect to the source and destination databases\n",
    "source_db = create_engine(os.getenv('SOURCE_DB_CONN'))\n",
    "\n",
    "destination_db = create_engine(os.getenv('DEST_DB_CONN'))\n"
   ]
  },
  {
   "cell_type": "code",
   "execution_count": 3,
   "metadata": {},
   "outputs": [
    {
     "name": "stdout",
     "output_type": "stream",
     "text": [
      "100 rows from client table were inserted successfully at 2023-03-24 09:49:49.276642\n"
     ]
    }
   ],
   "source": [
    "def client_data_load():\n",
    "    # read data from source tables\n",
    "    tablename = 'client'\n",
    "    client_df = pd.read_sql_table(tablename, source_db)\n",
    "\n",
    "    # mask PII\n",
    "    pii_columns = ['email_address', 'name' , 'address', 'phone_number']\n",
    "    client_df[pii_columns] = client_df[pii_columns].applymap(lambda x: x[0:2] + '*' * (len(x) -3) + x[-1:])\n",
    "\n",
    "    #add insert timestamp\n",
    "    client_df['insert_time'] = pd.Timestamp.now()\n",
    "\n",
    "    # insert into destination database\n",
    "    client_df.to_sql('client', con=destination_db, if_exists='replace', index=False)\n",
    "    return client_df\n",
    "# client_data_load()\n",
    "print(f\"{len(client_data_load())} rows from client table were inserted successfully at {str(pd.Timestamp.now())}\")"
   ]
  },
  {
   "cell_type": "code",
   "execution_count": 7,
   "metadata": {},
   "outputs": [],
   "source": [
    "#testing the pipeline\n",
    "def test_client_data_load():\n",
    "    source_table = 'client'\n",
    "    destination_table = 'client'\n",
    "    source_db = create_engine(os.getenv('SOURCE_DB_CONN'))\n",
    "    destination_db = create_engine(os.getenv('DEST_DB_CONN'))\n",
    "    \n",
    "    dest_df= pd.read_sql_table(destination_table,destination_db)\n",
    "    source_df=pd.read_sql_table(source_table,source_db)\n",
    "    pii_columns = ['email_address', 'name' , 'address', 'phone_number']\n",
    "\n",
    "    #check that table destination is not empty\n",
    "    assert len(dest_df) >1\n",
    "    # assert len(source_df) == len(dest_df) #check number of records match\n",
    "\n",
    "    #check if pii columns are masked\n",
    "    assert dest_df['email_address'].str.contains('\\*\\*').all() #check whether email is masked\n",
    "    # assert dest_df['name'].str.contains('\\*').all() #check whether name is masked\n",
    "    assert dest_df['address'].str.contains('\\*\\*').all() #check whether address is masked\n",
    "    assert dest_df['phone_number'].str.contains('\\*\\*').all() #check whether phone_number is masked\n",
    "\n",
    "    return test_client_data_load()"
   ]
  },
  {
   "cell_type": "code",
   "execution_count": 16,
   "metadata": {},
   "outputs": [
    {
     "name": "stdout",
     "output_type": "stream",
     "text": [
      "100 rows from client table were inserted successfully at 2023-03-24 09:55:46.537360\n"
     ]
    }
   ],
   "source": [
    "def enrollee_data_load():\n",
    "    \n",
    "    tablename = 'enrollee_profile'\n",
    "    enrollee_df = pd.read_sql_table(tablename, source_db)\n",
    "\n",
    "    # mask PII\n",
    "    pii_columns = ['hmo_id' , 'other_names', 'home_phone_number']\n",
    "    enrollee_df[pii_columns] = enrollee_df[pii_columns].applymap(lambda x: x[0:2] + '*' * (len(x) -3) + x[-1:])\n",
    "\n",
    "    #add insert timestamp\n",
    "    enrollee_df['insert_time'] = pd.Timestamp.now()\n",
    "\n",
    "    # insert into destination database\n",
    "    enrollee_df.to_sql('enrollee_profile', con=destination_db, if_exists='replace', index=False)\n",
    "    \n",
    "    return enrollee_df\n",
    "# enrollee_data_load()\n",
    "\n",
    "print(f\"{len(enrollee_data_load())} rows from client table were inserted successfully at {str(pd.Timestamp.now())}\")\n",
    "    \n"
   ]
  },
  {
   "cell_type": "code",
   "execution_count": 10,
   "metadata": {},
   "outputs": [],
   "source": [
    "def test_enrollee_data_load():\n",
    "    source_table = 'enrollee_profile'\n",
    "    destination_table = 'enrollee_profile'\n",
    "    source_db = create_engine(os.getenv('SOURCE_DB_CONN'))\n",
    "    destination_db = create_engine(os.getenv('DEST_DB_CONN'))\n",
    "    \n",
    "    dest_df= pd.read_sql_table(destination_table,destination_db)\n",
    "    source_df=pd.read_sql_table(source_table,source_db)\n",
    "    pii_columns = ['email_address', 'name' , 'address', 'phone_number']\n",
    "\n",
    "    #check that table destination is not empty\n",
    "    assert len(dest_df) >1\n",
    "    # assert len(source_df) == len(dest_df) #check number of records match\n",
    "\n",
    "    #check if pii columns are masked\n",
    "    assert dest_df['home_phone_number'].str.contains('\\*\\*').all() #check whether email is masked\n",
    "    assert dest_df['hmo_id'].str.contains('\\*').all() #check whether name is masked\n",
    "    assert dest_df['home_phone_number'].str.contains('\\*\\*').all() #check whether address is masked\n",
    "        "
   ]
  },
  {
   "cell_type": "code",
   "execution_count": 14,
   "metadata": {},
   "outputs": [
    {
     "name": "stderr",
     "output_type": "stream",
     "text": [
      "\u001b[31mERROR: usage: ipykernel_launcher.py [options] [file_or_dir] [file_or_dir] [...]\n",
      "ipykernel_launcher.py: error: unrecognized arguments: -f\n",
      "  inifile: None\n",
      "  rootdir: /Users/reliancehmo\n",
      "\u001b[0m\n"
     ]
    }
   ],
   "source": [
    "if __name__ == '__main__':\n",
    "    pytest.main()"
   ]
  },
  {
   "cell_type": "code",
   "execution_count": 15,
   "metadata": {},
   "outputs": [
    {
     "name": "stdout",
     "output_type": "stream",
     "text": [
      "Connection closed\n"
     ]
    }
   ],
   "source": [
    "#close database connections\n",
    "source_db.dispose()\n",
    "destination_db.dispose()\n",
    "print('Connection closed')\n"
   ]
  },
  {
   "cell_type": "code",
   "execution_count": null,
   "metadata": {},
   "outputs": [],
   "source": []
  }
 ],
 "metadata": {
  "kernelspec": {
   "display_name": "Python 3.11.2 64-bit",
   "language": "python",
   "name": "python3"
  },
  "language_info": {
   "codemirror_mode": {
    "name": "ipython",
    "version": 3
   },
   "file_extension": ".py",
   "mimetype": "text/x-python",
   "name": "python",
   "nbconvert_exporter": "python",
   "pygments_lexer": "ipython3",
   "version": "3.11.2"
  },
  "orig_nbformat": 4,
  "vscode": {
   "interpreter": {
    "hash": "b0fa6594d8f4cbf19f97940f81e996739fb7646882a419484c72d19e05852a7e"
   }
  }
 },
 "nbformat": 4,
 "nbformat_minor": 2
}
